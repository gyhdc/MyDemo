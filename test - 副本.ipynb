{
 "cells": [
  {
   "cell_type": "code",
   "execution_count": 1,
   "metadata": {},
   "outputs": [],
   "source": [
    "import torch\n",
    "import torch.nn as nn"
   ]
  },
  {
   "cell_type": "code",
   "execution_count": 2,
   "metadata": {},
   "outputs": [
    {
     "name": "stdout",
     "output_type": "stream",
     "text": [
      "batch_size : 16 \n",
      "seq_length : 18 \n",
      "device : cuda \n",
      "train_val : 0.9 \n",
      "epochs : 20 \n"
     ]
    }
   ],
   "source": [
    "import json\n",
    "\n",
    "\n",
    "class Config:\n",
    "    def __init__(self,**params):\n",
    "        self.config=params\n",
    "        self.set_attr()\n",
    "    def update(self,**params):\n",
    "        self.config.update(params)\n",
    "        self.set_attr()\n",
    "    def read(self,path):\n",
    "        with open(path, \"r\") as f:\n",
    "            self.config=json.load(f)\n",
    "        self.set_attr()\n",
    "    def save(self,path):\n",
    "        with open(path,mode='w') as f:\n",
    "            json.dump(self.cofig,f)\n",
    "    def __str__(self):#展示config\n",
    "        res=[]\n",
    "        for key,val in self.config.items():\n",
    "            if len(str(val))> 30:\n",
    "                continue\n",
    "            res.append(f\"{key} : {val} \")\n",
    "        return \"\\n\".join(res)\n",
    "    def set_attr(self,):\n",
    "        for key, value in self.config.items():\n",
    "            setattr(self, key, value)#设置字典为成员变量\n",
    "config=Config(\n",
    "    batch_size=16,\n",
    "    seq_length=18,\n",
    "    device= 'cuda' if torch.cuda.is_available() else 'cpu',\n",
    "    train_val=0.9,\n",
    "    epochs=20\n",
    ")\n",
    "print(config)"
   ]
  },
  {
   "cell_type": "code",
   "execution_count": 3,
   "metadata": {},
   "outputs": [],
   "source": [
    "class LSTM(nn.Module):\n",
    "    def __init__(self, input_size=1, hidden_size=128, output_size=1, num_layers=2, dropout=0.5):\n",
    "        super().__init__()\n",
    "        #(seq_len, batch_size, input_size)\n",
    "        self.input_size = input_size#数据维度\n",
    "        self.hidden_size = hidden_size\n",
    "        self.num_layers = num_layers\n",
    "        \n",
    "        self.lstm = nn.LSTM(\n",
    "            input_size=input_size, \n",
    "            hidden_size=hidden_size,\n",
    "            num_layers=num_layers, \n",
    "            dropout=(0 if num_layers == 1 else dropout)  # apply dropout if num_layers > 1\n",
    "        )\n",
    "        \n",
    "        self.classifer=nn.Sequential(\n",
    "            nn.Dropout(),\n",
    "            nn.Linear(hidden_size,output_size),\n",
    "            nn.Sigmoid()\n",
    "\n",
    "        )\n",
    "    def forward(self, input_seq):\n",
    "        lstm_out, _ = self.lstm(input_seq)\n",
    "        lstm_out=lstm_out[-1]\n",
    "        out=self.classifer(lstm_out)\n",
    "        \n",
    "        return out#(batch_size,output_size)\n",
    "\n"
   ]
  },
  {
   "cell_type": "code",
   "execution_count": 4,
   "metadata": {},
   "outputs": [
    {
     "name": "stdout",
     "output_type": "stream",
     "text": [
      "input_seq的shape为:torch.Size([5, 1, 2])\n",
      "模型输出的shape为:torch.Size([1, 3])\n"
     ]
    }
   ],
   "source": [
    "model = LSTM(input_size=2,output_size=3)\n",
    "input_seq = torch.tensor([[1,2],[3,3],[4,1],[2,4],[2,3]], dtype=torch.float32).reshape(-1, 1, 2)  # Added dtype and an extra dimension for input_size\n",
    "print(f\"input_seq的shape为:{input_seq.shape}\")\n",
    "out = model(input_seq)\n",
    "print(f\"模型输出的shape为:{out.shape}\")"
   ]
  },
  {
   "cell_type": "code",
   "execution_count": 5,
   "metadata": {},
   "outputs": [
    {
     "name": "stdout",
     "output_type": "stream",
     "text": [
      "[0, 0, 0, 0, 0, 0, 0, 0, 0, 0, 0, 0, 1, 1, 4, 5, 1, 4]\n"
     ]
    }
   ],
   "source": [
    "import string\n",
    "\n",
    "# 定义字符集合\n",
    "chars = string.ascii_lowercase + string.digits  # 'abcdefghijklmnopqrstuvwxyz0123456789'\n",
    "char_to_index = {char: i for i, char in enumerate(chars)}\n",
    "seq_length=config.seq_length\n",
    "def encoder(text,seq_length=seq_length):\n",
    "    if not isinstance(text,str):\n",
    "        text=str(text)\n",
    "    text=text.strip()\n",
    "    return list(map(lambda x:int(x),list(\"0\"*(seq_length-len(text))+text)))\n",
    "def decoder(text,seq_length=20):\n",
    "    pass\n",
    "print(encoder(114514))\n"
   ]
  },
  {
   "cell_type": "code",
   "execution_count": 6,
   "metadata": {},
   "outputs": [
    {
     "name": "stdout",
     "output_type": "stream",
     "text": [
      "18000\n",
      "2000\n",
      "[([0, 0, 0, 0, 0, 4, 9, 5, 6, 4, 0, 5, 5, 5, 2, 2, 4, 9], [0]), ([0, 0, 0, 0, 0, 4, 4, 6, 1, 1, 4, 1, 9, 4, 7, 4, 0, 8], [1])]\n"
     ]
    }
   ],
   "source": [
    "import random\n",
    "\n",
    "def createDataset(n=1000,max_num=9999999999999,func=lambda x:x%2==0):\n",
    "    #生成n个在max_num中随机取样的数据\n",
    "    data=random.sample(range(max_num), n)\n",
    "    dataset=[\n",
    "        (encoder(x),[1]) if func(x) else (encoder(x),[0]) for x in data \n",
    "    ]\n",
    "    return dataset\n",
    "\n",
    "all_data=createDataset(20000)\n",
    "train_val_sep=int(config.train_val*len(all_data))\n",
    "train_data=all_data[:train_val_sep]\n",
    "test_data=all_data[train_val_sep:]\n",
    "print(len(train_data))\n",
    "print(len(test_data))\n",
    "print(createDataset(n=500)[:2])\n"
   ]
  },
  {
   "cell_type": "code",
   "execution_count": 7,
   "metadata": {},
   "outputs": [
    {
     "name": "stdout",
     "output_type": "stream",
     "text": [
      "[tensor([[0.],\n",
      "        [0.],\n",
      "        [0.],\n",
      "        [0.],\n",
      "        [0.],\n",
      "        [8.],\n",
      "        [4.],\n",
      "        [4.],\n",
      "        [1.],\n",
      "        [9.],\n",
      "        [4.],\n",
      "        [8.],\n",
      "        [5.],\n",
      "        [1.],\n",
      "        [9.],\n",
      "        [5.],\n",
      "        [6.],\n",
      "        [1.]]), tensor([[0.]])]\n"
     ]
    },
    {
     "data": {
      "text/plain": [
       "0"
      ]
     },
     "execution_count": 7,
     "metadata": {},
     "output_type": "execute_result"
    }
   ],
   "source": [
    "from torch.utils.data import Dataset,DataLoader\n",
    "class MyDataset(Dataset):#时间序列数据集\n",
    "    def __init__(self,data):\n",
    "        self.data = data\n",
    "    def __len__(self):\n",
    "        return len(self.data)\n",
    "    def __getitem__(self,index):\n",
    "        seq=self.data[index][0]\n",
    "        label=self.data[index][1]#seq_len长的数据预测下一个点\n",
    "        return [\n",
    "            torch.FloatTensor(#输入全是float\n",
    "                seq,\n",
    "            ).reshape(-1,1),\n",
    "            torch.FloatTensor(\n",
    "                label,\n",
    "            ).reshape(-1,1)\n",
    "        ]#返回一个序列和下一个预测值\n",
    "train_dataset=MyDataset(train_data)\n",
    "val_dataset=MyDataset(test_data)\n",
    "\n",
    "print(train_dataset[0])\n",
    "batch_size=config.batch_size\n",
    "train_loader=DataLoader(train_dataset,batch_size=batch_size,drop_last=True)\n",
    "#dataloader 添加了一个batch的维度\n",
    "val_loader=DataLoader(val_dataset,batch_size=batch_size,drop_last=True)\n",
    "#维度说明，一行一个向量表示输入的维度为1，有n个数据\n",
    "0\n"
   ]
  },
  {
   "cell_type": "code",
   "execution_count": 8,
   "metadata": {},
   "outputs": [],
   "source": [
    "device=config.device\n",
    "epochs=config.epochs\n",
    "model=LSTM().to(device)\n",
    "loss_function=nn.BCELoss()#交叉熵\n",
    "optimizer=torch.optim.Adam(model.parameters(), lr=0.001)#优化器"
   ]
  },
  {
   "cell_type": "code",
   "execution_count": null,
   "metadata": {},
   "outputs": [],
   "source": []
  },
  {
   "cell_type": "code",
   "execution_count": 9,
   "metadata": {},
   "outputs": [
    {
     "data": {
      "text/plain": [
       "0.5045"
      ]
     },
     "execution_count": 9,
     "metadata": {},
     "output_type": "execute_result"
    }
   ],
   "source": [
    "def val(val_loader,model,epoch):\n",
    "    model.eval()\n",
    "    total_acc = 0\n",
    "    with torch.no_grad():\n",
    "        for i,(data,label) in enumerate(val_loader):\n",
    "            data=data.permute(1,0,2).to(device)\n",
    "            label=label.to(device).float()\n",
    "            out=model(data)\n",
    "            label=label.squeeze(1)\n",
    "            \n",
    "            out[out >= 0.5] = 1\n",
    "            out[out < 0.5] = 0\n",
    "\n",
    "            correct_preds = (out == label).float().sum().item()\n",
    "            num=torch.ones_like(out).sum().item()#标签数\n",
    "            total_acc += correct_preds/num\n",
    "        acc=total_acc/len(val_loader)\n",
    "        return acc\n",
    "val(val_loader,model,1)"
   ]
  },
  {
   "cell_type": "code",
   "execution_count": 10,
   "metadata": {},
   "outputs": [],
   "source": [
    "class BestSelector:\n",
    "    def __init__(self,**params):\n",
    "        self.usedCnt=0\n",
    "        self.bestMetrics=params\n",
    "    def __getitem__(self,key):\n",
    "        return self.bestMetrics[key]\n",
    "    def update(self,**params):\n",
    "        self.bestMetrics=params\n",
    "    def __str__(self):\n",
    "        res=[]\n",
    "        for key,val in self.bestMetrics.items():\n",
    "            if len(str(val))> 100:\n",
    "                continue\n",
    "            res.append(f\"{key} : {val} \")\n",
    "        return \",\".join(res)\n",
    "    \n",
    "\n"
   ]
  },
  {
   "cell_type": "code",
   "execution_count": 11,
   "metadata": {},
   "outputs": [],
   "source": [
    "bestMod=BestSelector(acc=0)"
   ]
  },
  {
   "cell_type": "code",
   "execution_count": 12,
   "metadata": {},
   "outputs": [
    {
     "name": "stderr",
     "output_type": "stream",
     "text": [
      "  5%|▌         | 1/20 [00:03<00:59,  3.16s/it]"
     ]
    },
    {
     "name": "stdout",
     "output_type": "stream",
     "text": [
      "epoch:0,acc:0.547,loss:0.6516034603118896\n"
     ]
    },
    {
     "name": "stderr",
     "output_type": "stream",
     "text": [
      " 10%|█         | 2/20 [00:06<01:01,  3.40s/it]"
     ]
    },
    {
     "name": "stdout",
     "output_type": "stream",
     "text": [
      "epoch:1,acc:0.536,loss:0.6378206014633179\n"
     ]
    },
    {
     "name": "stderr",
     "output_type": "stream",
     "text": [
      " 15%|█▌        | 3/20 [00:10<00:59,  3.51s/it]"
     ]
    },
    {
     "name": "stdout",
     "output_type": "stream",
     "text": [
      "epoch:2,acc:0.6175,loss:0.4526442587375641\n"
     ]
    },
    {
     "name": "stderr",
     "output_type": "stream",
     "text": [
      " 20%|██        | 4/20 [00:14<00:57,  3.60s/it]"
     ]
    },
    {
     "name": "stdout",
     "output_type": "stream",
     "text": [
      "epoch:3,acc:0.6335,loss:0.4313124120235443\n"
     ]
    },
    {
     "name": "stderr",
     "output_type": "stream",
     "text": [
      " 25%|██▌       | 5/20 [00:17<00:52,  3.53s/it]"
     ]
    },
    {
     "name": "stdout",
     "output_type": "stream",
     "text": [
      "epoch:4,acc:0.6675,loss:0.33697277307510376\n"
     ]
    },
    {
     "name": "stderr",
     "output_type": "stream",
     "text": [
      " 30%|███       | 6/20 [00:20<00:48,  3.47s/it]"
     ]
    },
    {
     "name": "stdout",
     "output_type": "stream",
     "text": [
      "epoch:5,acc:0.713,loss:0.29988956451416016\n"
     ]
    },
    {
     "name": "stderr",
     "output_type": "stream",
     "text": [
      " 35%|███▌      | 7/20 [00:24<00:44,  3.42s/it]"
     ]
    },
    {
     "name": "stdout",
     "output_type": "stream",
     "text": [
      "epoch:6,acc:0.7935,loss:0.2417566478252411\n"
     ]
    },
    {
     "name": "stderr",
     "output_type": "stream",
     "text": [
      " 40%|████      | 8/20 [00:27<00:40,  3.35s/it]"
     ]
    },
    {
     "name": "stdout",
     "output_type": "stream",
     "text": [
      "epoch:7,acc:0.8745,loss:0.2508448660373688\n"
     ]
    },
    {
     "name": "stderr",
     "output_type": "stream",
     "text": [
      " 45%|████▌     | 9/20 [00:30<00:35,  3.25s/it]"
     ]
    },
    {
     "name": "stdout",
     "output_type": "stream",
     "text": [
      "epoch:8,acc:0.8315,loss:0.24763654172420502\n"
     ]
    },
    {
     "name": "stderr",
     "output_type": "stream",
     "text": [
      " 50%|█████     | 10/20 [00:33<00:31,  3.17s/it]"
     ]
    },
    {
     "name": "stdout",
     "output_type": "stream",
     "text": [
      "epoch:9,acc:0.8115,loss:0.19101396203041077\n"
     ]
    },
    {
     "name": "stderr",
     "output_type": "stream",
     "text": [
      " 55%|█████▌    | 11/20 [00:36<00:27,  3.10s/it]"
     ]
    },
    {
     "name": "stdout",
     "output_type": "stream",
     "text": [
      "epoch:10,acc:0.804,loss:0.15856443345546722\n"
     ]
    },
    {
     "name": "stderr",
     "output_type": "stream",
     "text": [
      " 60%|██████    | 12/20 [00:39<00:24,  3.07s/it]"
     ]
    },
    {
     "name": "stdout",
     "output_type": "stream",
     "text": [
      "epoch:11,acc:0.7955,loss:0.15881438553333282\n"
     ]
    },
    {
     "name": "stderr",
     "output_type": "stream",
     "text": [
      " 65%|██████▌   | 13/20 [00:42<00:21,  3.07s/it]"
     ]
    },
    {
     "name": "stdout",
     "output_type": "stream",
     "text": [
      "epoch:12,acc:0.9025,loss:0.709356963634491\n"
     ]
    },
    {
     "name": "stderr",
     "output_type": "stream",
     "text": [
      " 70%|███████   | 14/20 [00:45<00:18,  3.07s/it]"
     ]
    },
    {
     "name": "stdout",
     "output_type": "stream",
     "text": [
      "epoch:13,acc:0.9055,loss:0.09902621805667877\n"
     ]
    },
    {
     "name": "stderr",
     "output_type": "stream",
     "text": [
      " 75%|███████▌  | 15/20 [00:48<00:15,  3.07s/it]"
     ]
    },
    {
     "name": "stdout",
     "output_type": "stream",
     "text": [
      "epoch:14,acc:0.9055,loss:0.12248563766479492\n"
     ]
    },
    {
     "name": "stderr",
     "output_type": "stream",
     "text": [
      " 80%|████████  | 16/20 [00:51<00:12,  3.03s/it]"
     ]
    },
    {
     "name": "stdout",
     "output_type": "stream",
     "text": [
      "epoch:15,acc:0.904,loss:0.11656815558671951\n"
     ]
    },
    {
     "name": "stderr",
     "output_type": "stream",
     "text": [
      " 85%|████████▌ | 17/20 [00:54<00:09,  3.03s/it]"
     ]
    },
    {
     "name": "stdout",
     "output_type": "stream",
     "text": [
      "epoch:16,acc:0.9055,loss:0.0710267424583435\n"
     ]
    },
    {
     "name": "stderr",
     "output_type": "stream",
     "text": [
      " 90%|█████████ | 18/20 [00:57<00:06,  3.04s/it]"
     ]
    },
    {
     "name": "stdout",
     "output_type": "stream",
     "text": [
      "epoch:17,acc:0.9055,loss:0.055990785360336304\n"
     ]
    },
    {
     "name": "stderr",
     "output_type": "stream",
     "text": [
      " 95%|█████████▌| 19/20 [01:00<00:03,  3.14s/it]"
     ]
    },
    {
     "name": "stdout",
     "output_type": "stream",
     "text": [
      "epoch:18,acc:0.981,loss:0.05436510220170021\n"
     ]
    },
    {
     "name": "stderr",
     "output_type": "stream",
     "text": [
      "100%|██████████| 20/20 [01:03<00:00,  3.20s/it]"
     ]
    },
    {
     "name": "stdout",
     "output_type": "stream",
     "text": [
      "epoch:19,acc:1.0,loss:0.07841356098651886\n",
      "已保存最好的模型为 acc : 1.0 ,epoch : 19 ,loss : 0.07841356098651886 \n"
     ]
    },
    {
     "name": "stderr",
     "output_type": "stream",
     "text": [
      "\n"
     ]
    }
   ],
   "source": [
    "from tqdm import tqdm\n",
    "loss_list=[]\n",
    "acc_list=[]#记录每次epoch的loss和acc\n",
    "\n",
    "for epoch in tqdm(range(epochs)):    \n",
    "    #train\n",
    "    model.train()\n",
    "    for seq,label in train_loader:\n",
    "        #torch的LSTM输入格式为(seq_len, batch_size, input_size)\n",
    "        #但是Dataloader封装后的格式为(batch_size, seq_len, input_size),交换0，1维度\n",
    "        seq=seq.permute(1,0,2).to(device)\n",
    "        label=label.to(device)\n",
    "\n",
    "        optimizer.zero_grad()\n",
    "        y_pred=model(seq)\n",
    "        label=label.squeeze(1)#对齐维度\n",
    "        loss=loss_function(y_pred,label)\n",
    "        loss.backward()\n",
    "        optimizer.step()\n",
    "    #val \n",
    "    acc=val(val_loader,model,epoch=epoch)\n",
    "    if acc>=bestMod['acc']:#更新best模型\n",
    "        bestMod.update(\n",
    "            model=model,\n",
    "            acc=acc,\n",
    "            epoch=epoch,\n",
    "            loss=loss\n",
    "        )\n",
    "    \n",
    "    loss_list.append(loss.to(\"cpu\").item())\n",
    "    acc_list.append(acc)\n",
    "    print(f'epoch:{epoch},acc:{acc},loss:{loss}')\n",
    "print(\"已保存最好的模型为\",bestMod)\n",
    "model=bestMod['model']#"
   ]
  },
  {
   "cell_type": "code",
   "execution_count": 13,
   "metadata": {},
   "outputs": [
    {
     "name": "stdout",
     "output_type": "stream",
     "text": [
      "acc : 1.0 ,epoch : 19 ,loss : 0.07841356098651886 \n"
     ]
    }
   ],
   "source": [
    "print(bestMod)\n",
    "model=bestMod[\"model\"]\n",
    "torch.save(model.state_dict(), \"best.pth\")"
   ]
  },
  {
   "cell_type": "code",
   "execution_count": 14,
   "metadata": {},
   "outputs": [
    {
     "data": {
      "text/plain": [
       "<All keys matched successfully>"
      ]
     },
     "execution_count": 14,
     "metadata": {},
     "output_type": "execute_result"
    }
   ],
   "source": [
    "model=LSTM()\n",
    "model.load_state_dict(torch.load(\"best.pth\"))"
   ]
  },
  {
   "cell_type": "code",
   "execution_count": 15,
   "metadata": {},
   "outputs": [
    {
     "data": {
      "image/png": "[encoded data removed]",
      "text/plain": [
       "<Figure size 640x480 with 2 Axes>"
      ]
     },
     "metadata": {},
     "output_type": "display_data"
    }
   ],
   "source": [
    "import matplotlib.pyplot  as plt\n",
    "\n",
    "plt.rcParams['font.sans-serif'] = ['SimHei']  # 例如设置为 'SimHei'\n",
    "plt.rcParams['axes.unicode_minus'] = False  # 解决保存图像是负号'-'显示为方块的问题\n",
    "# loss_list=[loss.to(\"cpu\").item() for loss in loss_list if not isinstance(loss,float)]\n",
    "\n",
    "plt.subplot(211)\n",
    "plt.plot(loss_list)\n",
    "plt.xticks((range(0,epochs+1)))\n",
    "plt.ylabel(\"Loss\")\n",
    "plt.xlabel(\"epoch\")\n",
    "plt.grid(True)\n",
    "\n",
    "\n",
    "plt.subplot(212)\n",
    "plt.plot(acc_list)\n",
    "plt.xticks((range(0,epochs+1)))\n",
    "plt.ylabel(\"Accuracy\")\n",
    "plt.xlabel(\"epoch\")\n",
    "\n",
    "plt.grid(True)\n",
    "plt.subplots_adjust(wspace=0.5, hspace=0.5)"
   ]
  },
  {
   "cell_type": "code",
   "execution_count": 17,
   "metadata": {},
   "outputs": [
    {
     "name": "stdout",
     "output_type": "stream",
     "text": [
      "677540是偶数\n",
      "295550是偶数\n",
      "60084是偶数\n",
      "221055是奇数\n",
      "182025是奇数\n",
      "419088是偶数\n",
      "228735是奇数\n",
      "251225是奇数\n",
      "341171是奇数\n",
      "463588是偶数\n",
      "28112是偶数\n",
      "29478是偶数\n",
      "842427是奇数\n",
      "11961是奇数\n",
      "604104是偶数\n",
      "acc:1.0\n"
     ]
    }
   ],
   "source": [
    "\n",
    "def e2e_test(inputs,model_ori):\n",
    "    model=model_ori.to(\"cpu\")\n",
    "    total_acc,total_num=0,0\n",
    "    for seq in inputs:\n",
    "        num=seq\n",
    "        if seq%2==0:\n",
    "            label=1\n",
    "        else:\n",
    "            label=0\n",
    "        seq=encoder(seq)\n",
    "        seq=torch.FloatTensor(seq).reshape(-1,1,1)#lstm(seq_len,batch_size,input_size)\n",
    "        pred=model(seq).flatten().item()#将模型推理结果展平为普通数值格式\n",
    "        if pred>=0.5:\n",
    "            pred=1\n",
    "            print(f\"{num}是偶数\")\n",
    "        else:\n",
    "            pred=0\n",
    "            print(f\"{num}是奇数\")\n",
    "        if label==pred:\n",
    "            total_acc+=1\n",
    "        total_num+=1\n",
    "    acc=total_acc/total_num\n",
    "\n",
    "    print(f\"acc:{acc}\")\n",
    "inputs=random.sample(range(1000000),15)\n",
    "e2e_test(inputs,model)\n",
    "\n",
    "        # \n",
    "\n"
   ]
  }
 ],
 "metadata": {
  "kernelspec": {
   "display_name": "sound",
   "language": "python",
   "name": "python3"
  },
  "language_info": {
   "codemirror_mode": {
    "name": "ipython",
    "version": 3
   },
   "file_extension": ".py",
   "mimetype": "text/x-python",
   "name": "python",
   "nbconvert_exporter": "python",
   "pygments_lexer": "ipython3",
   "version": "3.9.17"
  }
 },
 "nbformat": 4,
 "nbformat_minor": 2
}
